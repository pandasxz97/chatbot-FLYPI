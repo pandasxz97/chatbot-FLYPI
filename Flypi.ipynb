{
  "nbformat": 4,
  "nbformat_minor": 0,
  "metadata": {
    "colab": {
      "name": "Flypi.ipynb",
      "provenance": [],
      "collapsed_sections": []
    },
    "kernelspec": {
      "display_name": "Python 3",
      "name": "python3"
    },
    "language_info": {
      "name": "python"
    }
  },
  "cells": [
    {
      "cell_type": "markdown",
      "metadata": {
        "id": "31Dww3CeLl2l"
      },
      "source": [
        "##Impotacion de librerias"
      ]
    },
    {
      "cell_type": "code",
      "metadata": {
        "id": "dl2SPP46VcWZ"
      },
      "source": [
        "import io\n",
        "import random\n",
        "import string # para procesar cadenas de Python estándar\n",
        "import warnings #La forma más simple de emitir una advertencia es llamar a warn() con el mensaje como argumento.\n",
        "import numpy as np\n",
        "from sklearn.feature_extraction.text import TfidfVectorizer #Es una técnica de ponderación comúnmente utilizada en el procesamiento de información y la minería de datos.\n",
        "from sklearn.metrics.pairwise import cosine_similarity #Calcular la similitud de las dadas cadenas de 2 oraciones\n",
        "import warnings #imprime advertencias\n",
        "warnings.filterwarnings('ignore')"
      ],
      "execution_count": 58,
      "outputs": []
    },
    {
      "cell_type": "code",
      "metadata": {
        "colab": {
          "base_uri": "https://localhost:8080/"
        },
        "id": "q593HlZeyiBZ",
        "outputId": "5f5394db-0960-4376-ad70-a723f225a2bd"
      },
      "source": [
        "import nltk\n",
        "from nltk.stem import WordNetLemmatizer\n",
        "nltk.download('popular', quiet=True)"
      ],
      "execution_count": 59,
      "outputs": [
        {
          "output_type": "execute_result",
          "data": {
            "text/plain": [
              "True"
            ]
          },
          "metadata": {
            "tags": []
          },
          "execution_count": 59
        }
      ]
    },
    {
      "cell_type": "markdown",
      "metadata": {
        "id": "4gUUmwSxNc_D"
      },
      "source": [
        "##Leyendo datos"
      ]
    },
    {
      "cell_type": "code",
      "metadata": {
        "id": "AdoGdznrwvv3"
      },
      "source": [
        "f=open('/content/tiendita.txt','r',errors = 'ignore')\n",
        "raw=f.read()\n",
        "raw = raw.lower() # convierte a minúsculas"
      ],
      "execution_count": 61,
      "outputs": []
    },
    {
      "cell_type": "code",
      "metadata": {
        "id": "E88-hS4Zzufm"
      },
      "source": [
        "sent_tokens = nltk.sent_tokenize(raw)# convierte a una lista de oraciones\n",
        "word_tokens = nltk.word_tokenize(raw)# convierte a lista de palabras"
      ],
      "execution_count": 62,
      "outputs": []
    },
    {
      "cell_type": "markdown",
      "metadata": {
        "id": "QfkEIC7dL2et"
      },
      "source": [
        "##Pre-procesamiento del texto crudo"
      ]
    },
    {
      "cell_type": "code",
      "metadata": {
        "id": "EOopBRxIz2UU"
      },
      "source": [
        "lemmer = nltk.stem.WordNetLemmatizer()\n",
        "#WordNet es un diccionario de inglés de orientación semántica incluido en NLTK.\n",
        "def LemTokens(tokens):\n",
        "    return [lemmer.lemmatize(token) for token in tokens]\n",
        "remove_punct_dict = dict((ord(punct), None) for punct in string.punctuation)\n",
        "\n",
        "def LemNormalize(text):\n",
        "    return LemTokens(nltk.word_tokenize(text.lower().translate(remove_punct_dict)))"
      ],
      "execution_count": 63,
      "outputs": []
    },
    {
      "cell_type": "markdown",
      "metadata": {
        "id": "w6QoHAP5L7IS"
      },
      "source": [
        "##Coincidencia de palabras clave"
      ]
    },
    {
      "cell_type": "code",
      "metadata": {
        "id": "ie7v_Chmz3uq"
      },
      "source": [
        "GREETING_INPUTS = (\"hola\", \"buenas tardes\", \"saludos\", \"ayuda\", \"que pasa\",\"buenos dias\",)\n",
        "GREETING_RESPONSES = [\"hola\", \"buenos dias\", \"buenas tardes\", \"diga su consulta\", \"estoy para ayudarte\", \"¡Me alegro! Usted está hablando conmigo\"]\n",
        "def greeting(sentence):\n",
        " \n",
        "    for word in sentence.split():\n",
        "        if word.lower() in GREETING_INPUTS:\n",
        "            return random.choice(GREETING_RESPONSES)"
      ],
      "execution_count": 64,
      "outputs": []
    },
    {
      "cell_type": "markdown",
      "metadata": {
        "id": "HRJJf4a2MBlT"
      },
      "source": [
        "##Generando respuestas"
      ]
    },
    {
      "cell_type": "code",
      "metadata": {
        "id": "vPi9zD1e0A-X"
      },
      "source": [
        "def response(user_response):\n",
        "    robo_response=''\n",
        "    sent_tokens.append(user_response)\n",
        "    TfidfVec = TfidfVectorizer(tokenizer=LemNormalize, stop_words='english')\n",
        "    tfidf = TfidfVec.fit_transform(sent_tokens)\n",
        "    vals = cosine_similarity(tfidf[-1], tfidf)\n",
        "    idx=vals.argsort()[0][-2]\n",
        "    flat = vals.flatten()\n",
        "    flat.sort()\n",
        "    req_tfidf = flat[-2]\n",
        "    if(req_tfidf==0):\n",
        "        robo_response=robo_response+\"Disculpame pero no te entendi.\"\n",
        "        return robo_response\n",
        "    else:\n",
        "        robo_response = robo_response+sent_tokens[idx]\n",
        "        return robo_response"
      ],
      "execution_count": 65,
      "outputs": []
    },
    {
      "cell_type": "code",
      "metadata": {
        "colab": {
          "base_uri": "https://localhost:8080/"
        },
        "id": "gtA3kqR30HML",
        "outputId": "a8175603-7307-4ea2-b034-5055a51c6fd4"
      },
      "source": [
        "flag=True\n",
        "print(\"FLYPI: Mi nombre es FLYPI. Responderé a tus consultas sobre los productos que tenemos. Si desea salir, escriba ¡Adios!\")\n",
        "while(flag==True):\n",
        "    user_response = input()\n",
        "    user_response=user_response.lower()\n",
        "    if(user_response!='Adios'):\n",
        "        if(user_response=='gracias' or user_response=='GRACIAS' ):\n",
        "            flag=False\n",
        "            print(\"FLYPI: Hasta la Proxima, estamos para servirle.\")\n",
        "        else:\n",
        "            if(greeting(user_response)!=None):\n",
        "                print(\"FLYPI: \"+greeting(user_response))\n",
        "            else:\n",
        "                print(\"FLYPI \",end=\" \")\n",
        "                print(response(user_response))\n",
        "                sent_tokens.remove(user_response)\n",
        "    else:\n",
        "        flag=False\n",
        "        print(\"FLYPI: Hasta la Proxima, Cuidate!\")"
      ],
      "execution_count": 66,
      "outputs": [
        {
          "output_type": "stream",
          "text": [
            "FLYPI: Mi nombre es FLYPI. Responderé a tus consultas sobre los productos que tenemos. Si desea salir, escriba ¡Adios!\n",
            "HOLA\n",
            "FLYPI: buenas tardes\n",
            "que productos ofrecen\n",
            "FLYPI  los productos que ofrecemos son laptops,celulares,impresoras, audifonos y computadoras,las mejores marcas para su hogar.\n",
            "que impresoras tienen\n",
            "FLYPI  las impresoras que ofrecemos son, epson lx350, epson l3150.\n",
            "epson lx 350\n",
            "FLYPI  las impresoras que ofrecemos son, epson lx350, epson l3150.\n",
            "lx 350\n",
            "FLYPI  Disculpame pero no te entendi.\n",
            "costo de lalx 350\n",
            "FLYPI  costo de la impresora epson lx350  s/.820 soles.\n",
            "que celulares tienen\n",
            "FLYPI  los celulares que tenemos son, xiomi redmi bote 9t, huawei nova 5t y huawei p40.\n",
            "p40\n",
            "FLYPI  costo del huawei p40 es de s/.820 3200 soles.\n",
            "xiaomi redmi note 9t\n",
            "FLYPI  costo xiaomi redmi note 9t desde s/.820 1050 soles.\n",
            "datelles del p40\n",
            "FLYPI  costo del huawei p40 es de s/.820 3200 soles.\n",
            "procesador \n",
            "FLYPI  detalles p40, dimensiones y peso 148,9 x 71,1 x 8,5 mm 175 gramos,\n",
            "pantalla oled de 6,1 pulgadas resolución fullhd+ (2.340 x 1.080 píxeles) formato 19,5:9 422 ppp perforación para la cámara,\n",
            "procesador kirin 990 5g gpu mali-g76, memoria ram 8 gb, \n",
            "almacenamiento interno 128 gb ampliables con nmcard, \n",
            "cámara trasera 50 mp f/1.9 telefoto 8 mp f/2.4, zoom óptico 3x gran angular 16 mp f/2.2 pdaf, ois vídeo 4k@60fps,\n",
            "cámara delantera 32 mp f/2.0 ir tof vídeo 4k@60fps,\n",
            "batería 3.800 mah carga rápida de 22,5w,sistema operativo android 10 con emui 10.1 sin google mobile services,\n",
            "conectividiad 5g wifi 6 bluetooth 5.1 gps de doble banda, nfc usb tipo c 3.1 otros lector de huellas en pantalla ip53.\n",
            "que audifonos tienen\n",
            "FLYPI  los audifonos que tenemos son, earbuds basic 2, jbl.\n",
            "eaubuds basis 2\n",
            "FLYPI  precio del earbuds basic 2 s/.65 soles.\n",
            "gracias\n",
            "FLYPI: Hasta la Proxima, estamos para servirle.\n"
          ],
          "name": "stdout"
        }
      ]
    }
  ]
}